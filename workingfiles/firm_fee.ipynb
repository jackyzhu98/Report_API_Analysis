{
 "cells": [
  {
   "cell_type": "code",
   "execution_count": 4,
   "metadata": {},
   "outputs": [
    {
     "name": "stderr",
     "output_type": "stream",
     "text": [
      "<>:2: SyntaxWarning: invalid escape sequence '\\A'\n",
      "<>:2: SyntaxWarning: invalid escape sequence '\\A'\n",
      "C:\\Users\\jackyzhu\\AppData\\Local\\Temp\\ipykernel_29440\\1730365137.py:2: SyntaxWarning: invalid escape sequence '\\A'\n",
      "  product = pd.read_csv(\"D:\\合作店铺\\科帕奇\\Agg Data\\科帕奇_产品分析.csv\",index_col=0)\n"
     ]
    }
   ],
   "source": [
    "import pandas as pd\n",
    "product = pd.read_csv(\"D:\\合作店铺\\科帕奇\\Agg Data\\科帕奇_产品分析.csv\",index_col=0)"
   ]
  },
  {
   "cell_type": "code",
   "execution_count": 8,
   "metadata": {},
   "outputs": [
    {
     "name": "stderr",
     "output_type": "stream",
     "text": [
      "<>:1: SyntaxWarning: invalid escape sequence '\\A'\n",
      "<>:1: SyntaxWarning: invalid escape sequence '\\A'\n",
      "C:\\Users\\jackyzhu\\AppData\\Local\\Temp\\ipykernel_29440\\2245992977.py:1: SyntaxWarning: invalid escape sequence '\\A'\n",
      "  product.groupby(['year','month','marketplace'])[['Principal','Commission','FBAPerUnitFulfillmentFee','Total_Fee','Total_Tax']].sum().reset_index().to_csv('D:\\合作店铺\\科帕奇\\Agg Data\\科帕奇_公司层面_付费.csv')\n"
     ]
    }
   ],
   "source": [
    "product.groupby(['year','month','marketplace'])[['Principal','Commission','FBAPerUnitFulfillmentFee','Total_Fee','Total_Tax']].sum().reset_index().to_csv('D:\\合作店铺\\科帕奇\\Agg Data\\科帕奇_公司层面_付费.csv')"
   ]
  },
  {
   "cell_type": "code",
   "execution_count": 16,
   "metadata": {},
   "outputs": [
    {
     "name": "stderr",
     "output_type": "stream",
     "text": [
      "<>:1: SyntaxWarning: invalid escape sequence '\\A'\n",
      "<>:1: SyntaxWarning: invalid escape sequence '\\A'\n",
      "C:\\Users\\jackyzhu\\AppData\\Local\\Temp\\ipykernel_29440\\3792940587.py:1: SyntaxWarning: invalid escape sequence '\\A'\n",
      "  refund = pd.read_csv('D:\\合作店铺\\科帕奇\\Agg Data\\科帕奇_退款分析.csv',index_col = 0)\n"
     ]
    }
   ],
   "source": [
    "refund = pd.read_csv('D:\\合作店铺\\科帕奇\\Agg Data\\科帕奇_退款分析.csv',index_col = 0)"
   ]
  },
  {
   "cell_type": "code",
   "execution_count": 13,
   "metadata": {},
   "outputs": [],
   "source": [
    "refund = refund.groupby(['year_month','market'])[['退货产品总价','退货产品数量','退单数量','订单总数']].sum().reset_index()"
   ]
  },
  {
   "cell_type": "code",
   "execution_count": 20,
   "metadata": {},
   "outputs": [
    {
     "name": "stderr",
     "output_type": "stream",
     "text": [
      "<>:1: SyntaxWarning: invalid escape sequence '\\A'\n",
      "<>:1: SyntaxWarning: invalid escape sequence '\\A'\n",
      "C:\\Users\\jackyzhu\\AppData\\Local\\Temp\\ipykernel_29440\\2874130515.py:1: SyntaxWarning: invalid escape sequence '\\A'\n",
      "  refund.to_csv('D:\\合作店铺\\科帕奇\\Agg Data\\科帕奇_公司层面_退货.csv')\n"
     ]
    }
   ],
   "source": [
    "refund.to_csv('D:\\合作店铺\\科帕奇\\Agg Data\\科帕奇_公司层面_退货.csv')"
   ]
  },
  {
   "cell_type": "code",
   "execution_count": null,
   "metadata": {},
   "outputs": [],
   "source": []
  }
 ],
 "metadata": {
  "kernelspec": {
   "display_name": "Python 3",
   "language": "python",
   "name": "python3"
  },
  "language_info": {
   "codemirror_mode": {
    "name": "ipython",
    "version": 3
   },
   "file_extension": ".py",
   "mimetype": "text/x-python",
   "name": "python",
   "nbconvert_exporter": "python",
   "pygments_lexer": "ipython3",
   "version": "3.12.1"
  }
 },
 "nbformat": 4,
 "nbformat_minor": 2
}
