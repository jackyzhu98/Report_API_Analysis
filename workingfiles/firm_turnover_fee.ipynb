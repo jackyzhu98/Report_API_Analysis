{
 "cells": [
  {
   "cell_type": "code",
   "execution_count": 6,
   "metadata": {},
   "outputs": [
    {
     "name": "stderr",
     "output_type": "stream",
     "text": [
      "<>:2: SyntaxWarning: invalid escape sequence '\\A'\n",
      "<>:2: SyntaxWarning: invalid escape sequence '\\A'\n",
      "C:\\Users\\jackyzhu\\AppData\\Local\\Temp\\ipykernel_27584\\998925825.py:2: SyntaxWarning: invalid escape sequence '\\A'\n",
      "  inbound = pd.read_csv(\"D:\\合作店铺\\科帕奇\\Agg Data\\科帕奇_入库分析.csv\",index_col=0)\n"
     ]
    }
   ],
   "source": [
    "import pandas as pd\n",
    "inbound = pd.read_csv(\"D:\\合作店铺\\科帕奇\\Agg Data\\科帕奇_入库分析.csv\",index_col=0)"
   ]
  },
  {
   "cell_type": "code",
   "execution_count": 8,
   "metadata": {},
   "outputs": [],
   "source": [
    "asin_list = ['B0BG5NT1TQ',\n",
    "'B0C9T77KFV',\n",
    "'B0BP2D9WHF',\n",
    "'B0833WS6D3',\n",
    "'B0C323QSH9',\n",
    "'B0C23FDH1L',\n",
    "'B0BY2N3HM3',\n",
    "'B0C7B5325J',\n",
    "'B0C7BB2ZZM',\n",
    "'B0CBC4BDPT',\n",
    "]"
   ]
  },
  {
   "cell_type": "code",
   "execution_count": 14,
   "metadata": {},
   "outputs": [],
   "source": [
    "inbound = inbound.groupby(['asin','year','month'])[['quantity_shipped','quantity_received']].sum().reset_index()"
   ]
  },
  {
   "cell_type": "code",
   "execution_count": 15,
   "metadata": {},
   "outputs": [],
   "source": [
    "inbound = inbound[inbound['asin'].isin(asin_list)]"
   ]
  },
  {
   "cell_type": "code",
   "execution_count": 17,
   "metadata": {},
   "outputs": [],
   "source": [
    "inbound['inventory'] = inbound.groupby(['asin'])['quantity_received'].cumsum() - inbound.groupby(['asin'])['quantity_shipped'].cumsum()"
   ]
  },
  {
   "cell_type": "code",
   "execution_count": 21,
   "metadata": {},
   "outputs": [],
   "source": [
    "inbound['filled_inventory'] = inbound['inventory'].apply(lambda x : 0 if x < 0 else x)"
   ]
  },
  {
   "cell_type": "code",
   "execution_count": 24,
   "metadata": {},
   "outputs": [
    {
     "name": "stderr",
     "output_type": "stream",
     "text": [
      "<>:1: SyntaxWarning: invalid escape sequence '\\A'\n",
      "<>:1: SyntaxWarning: invalid escape sequence '\\A'\n",
      "C:\\Users\\jackyzhu\\AppData\\Local\\Temp\\ipykernel_27584\\1886846592.py:1: SyntaxWarning: invalid escape sequence '\\A'\n",
      "  inbound.to_csv('D:\\合作店铺\\科帕奇\\Agg Data\\/科帕奇_公司层面_库存.csv')\n"
     ]
    }
   ],
   "source": [
    "inbound.to_csv('D:\\合作店铺\\科帕奇\\Agg Data\\/科帕奇_公司层面_库存.csv')"
   ]
  },
  {
   "cell_type": "code",
   "execution_count": null,
   "metadata": {},
   "outputs": [],
   "source": []
  }
 ],
 "metadata": {
  "kernelspec": {
   "display_name": "Python 3",
   "language": "python",
   "name": "python3"
  },
  "language_info": {
   "codemirror_mode": {
    "name": "ipython",
    "version": 3
   },
   "file_extension": ".py",
   "mimetype": "text/x-python",
   "name": "python",
   "nbconvert_exporter": "python",
   "pygments_lexer": "ipython3",
   "version": "3.12.1"
  }
 },
 "nbformat": 4,
 "nbformat_minor": 2
}
