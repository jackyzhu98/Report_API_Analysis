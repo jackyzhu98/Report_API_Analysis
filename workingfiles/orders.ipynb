{
 "cells": [
  {
   "cell_type": "code",
   "execution_count": 1,
   "metadata": {},
   "outputs": [
    {
     "name": "stderr",
     "output_type": "stream",
     "text": [
      "<>:3: SyntaxWarning: invalid escape sequence '\\B'\n",
      "<>:3: SyntaxWarning: invalid escape sequence '\\B'\n",
      "C:\\Users\\jackyzhu\\AppData\\Local\\Temp\\ipykernel_21924\\2314122016.py:3: SyntaxWarning: invalid escape sequence '\\B'\n",
      "  os.chdir(\"D:\\合作店铺\\科帕奇\\Basic Data\")\n"
     ]
    }
   ],
   "source": [
    "import pandas as pd\n",
    "import os\n",
    "os.chdir(\"D:\\合作店铺\\科帕奇\\Basic Data\")"
   ]
  },
  {
   "cell_type": "code",
   "execution_count": 4,
   "metadata": {},
   "outputs": [],
   "source": [
    "orders = pd.read_csv('seller_order.csv',index_col = 0)"
   ]
  },
  {
   "cell_type": "code",
   "execution_count": 6,
   "metadata": {},
   "outputs": [
    {
     "data": {
      "text/plain": [
       "amazon_order_id\n",
       "702-3246125-4201856    1\n",
       "113-2762084-9898624    1\n",
       "112-5775233-8042640    1\n",
       "113-0341880-5960277    1\n",
       "112-1151904-1618610    1\n",
       "                      ..\n",
       "112-0247968-7040240    1\n",
       "112-4275679-4982621    1\n",
       "113-0445640-1269066    1\n",
       "114-7006402-2302660    1\n",
       "113-9078149-1954646    1\n",
       "Name: count, Length: 112176, dtype: int64"
      ]
     },
     "execution_count": 6,
     "metadata": {},
     "output_type": "execute_result"
    }
   ],
   "source": [
    "orders.amazon_order_id.value_counts()"
   ]
  },
  {
   "cell_type": "code",
   "execution_count": 8,
   "metadata": {},
   "outputs": [],
   "source": [
    "po = pd.read_csv('order_product.csv',index_col=0)"
   ]
  },
  {
   "cell_type": "code",
   "execution_count": 14,
   "metadata": {},
   "outputs": [
    {
     "data": {
      "text/plain": [
       "112176"
      ]
     },
     "execution_count": 14,
     "metadata": {},
     "output_type": "execute_result"
    }
   ],
   "source": [
    "orders.amazon_order_id.nunique()"
   ]
  },
  {
   "cell_type": "code",
   "execution_count": 15,
   "metadata": {},
   "outputs": [
    {
     "data": {
      "text/plain": [
       "112176"
      ]
     },
     "execution_count": 15,
     "metadata": {},
     "output_type": "execute_result"
    }
   ],
   "source": [
    "po.amazon_order_id.nunique()"
   ]
  },
  {
   "cell_type": "code",
   "execution_count": 18,
   "metadata": {},
   "outputs": [
    {
     "data": {
      "text/plain": [
       "120376"
      ]
     },
     "execution_count": 18,
     "metadata": {},
     "output_type": "execute_result"
    }
   ],
   "source": [
    "orders.quantity_shipped.sum()"
   ]
  },
  {
   "cell_type": "code",
   "execution_count": 17,
   "metadata": {},
   "outputs": [
    {
     "data": {
      "text/plain": [
       "117220.0"
      ]
     },
     "execution_count": 17,
     "metadata": {},
     "output_type": "execute_result"
    }
   ],
   "source": [
    "po.quantity_shipped.sum()"
   ]
  },
  {
   "cell_type": "code",
   "execution_count": null,
   "metadata": {},
   "outputs": [],
   "source": []
  },
  {
   "cell_type": "code",
   "execution_count": 30,
   "metadata": {},
   "outputs": [],
   "source": [
    "comp = po.groupby(['amazon_order_id'])['quantity_shipped'].sum().reset_index().merge(orders[['amazon_order_id','quantity_shipped','year','month']],how = 'left', on = 'amazon_order_id')"
   ]
  },
  {
   "cell_type": "code",
   "execution_count": 32,
   "metadata": {},
   "outputs": [
    {
     "data": {
      "text/html": [
       "<div>\n",
       "<style scoped>\n",
       "    .dataframe tbody tr th:only-of-type {\n",
       "        vertical-align: middle;\n",
       "    }\n",
       "\n",
       "    .dataframe tbody tr th {\n",
       "        vertical-align: top;\n",
       "    }\n",
       "\n",
       "    .dataframe thead th {\n",
       "        text-align: right;\n",
       "    }\n",
       "</style>\n",
       "<table border=\"1\" class=\"dataframe\">\n",
       "  <thead>\n",
       "    <tr style=\"text-align: right;\">\n",
       "      <th></th>\n",
       "      <th>amazon_order_id</th>\n",
       "      <th>quantity_shipped_x</th>\n",
       "      <th>quantity_shipped_y</th>\n",
       "      <th>year</th>\n",
       "      <th>month</th>\n",
       "    </tr>\n",
       "  </thead>\n",
       "  <tbody>\n",
       "    <tr>\n",
       "      <th>7714</th>\n",
       "      <td>111-3010843-7873014</td>\n",
       "      <td>1.0</td>\n",
       "      <td>2</td>\n",
       "      <td>2022</td>\n",
       "      <td>2</td>\n",
       "    </tr>\n",
       "    <tr>\n",
       "      <th>15256</th>\n",
       "      <td>111-5971948-0689026</td>\n",
       "      <td>1.0</td>\n",
       "      <td>2</td>\n",
       "      <td>2022</td>\n",
       "      <td>2</td>\n",
       "    </tr>\n",
       "    <tr>\n",
       "      <th>27047</th>\n",
       "      <td>112-0613124-4549063</td>\n",
       "      <td>1.0</td>\n",
       "      <td>2</td>\n",
       "      <td>2022</td>\n",
       "      <td>2</td>\n",
       "    </tr>\n",
       "    <tr>\n",
       "      <th>31118</th>\n",
       "      <td>112-2228134-9706649</td>\n",
       "      <td>1.0</td>\n",
       "      <td>2</td>\n",
       "      <td>2022</td>\n",
       "      <td>2</td>\n",
       "    </tr>\n",
       "    <tr>\n",
       "      <th>37956</th>\n",
       "      <td>112-4895175-3409006</td>\n",
       "      <td>2.0</td>\n",
       "      <td>4</td>\n",
       "      <td>2022</td>\n",
       "      <td>2</td>\n",
       "    </tr>\n",
       "    <tr>\n",
       "      <th>...</th>\n",
       "      <td>...</td>\n",
       "      <td>...</td>\n",
       "      <td>...</td>\n",
       "      <td>...</td>\n",
       "      <td>...</td>\n",
       "    </tr>\n",
       "    <tr>\n",
       "      <th>110946</th>\n",
       "      <td>702-7534268-5451417</td>\n",
       "      <td>0.0</td>\n",
       "      <td>1</td>\n",
       "      <td>2024</td>\n",
       "      <td>2</td>\n",
       "    </tr>\n",
       "    <tr>\n",
       "      <th>111063</th>\n",
       "      <td>702-7738072-4820247</td>\n",
       "      <td>0.0</td>\n",
       "      <td>1</td>\n",
       "      <td>2024</td>\n",
       "      <td>2</td>\n",
       "    </tr>\n",
       "    <tr>\n",
       "      <th>111512</th>\n",
       "      <td>702-8648645-3676226</td>\n",
       "      <td>0.0</td>\n",
       "      <td>1</td>\n",
       "      <td>2024</td>\n",
       "      <td>2</td>\n",
       "    </tr>\n",
       "    <tr>\n",
       "      <th>111757</th>\n",
       "      <td>702-9112636-0913818</td>\n",
       "      <td>0.0</td>\n",
       "      <td>1</td>\n",
       "      <td>2024</td>\n",
       "      <td>2</td>\n",
       "    </tr>\n",
       "    <tr>\n",
       "      <th>112096</th>\n",
       "      <td>702-9810874-3873006</td>\n",
       "      <td>0.0</td>\n",
       "      <td>1</td>\n",
       "      <td>2024</td>\n",
       "      <td>2</td>\n",
       "    </tr>\n",
       "  </tbody>\n",
       "</table>\n",
       "<p>2266 rows × 5 columns</p>\n",
       "</div>"
      ],
      "text/plain": [
       "            amazon_order_id  quantity_shipped_x  quantity_shipped_y  year  \\\n",
       "7714    111-3010843-7873014                 1.0                   2  2022   \n",
       "15256   111-5971948-0689026                 1.0                   2  2022   \n",
       "27047   112-0613124-4549063                 1.0                   2  2022   \n",
       "31118   112-2228134-9706649                 1.0                   2  2022   \n",
       "37956   112-4895175-3409006                 2.0                   4  2022   \n",
       "...                     ...                 ...                 ...   ...   \n",
       "110946  702-7534268-5451417                 0.0                   1  2024   \n",
       "111063  702-7738072-4820247                 0.0                   1  2024   \n",
       "111512  702-8648645-3676226                 0.0                   1  2024   \n",
       "111757  702-9112636-0913818                 0.0                   1  2024   \n",
       "112096  702-9810874-3873006                 0.0                   1  2024   \n",
       "\n",
       "        month  \n",
       "7714        2  \n",
       "15256       2  \n",
       "27047       2  \n",
       "31118       2  \n",
       "37956       2  \n",
       "...       ...  \n",
       "110946      2  \n",
       "111063      2  \n",
       "111512      2  \n",
       "111757      2  \n",
       "112096      2  \n",
       "\n",
       "[2266 rows x 5 columns]"
      ]
     },
     "execution_count": 32,
     "metadata": {},
     "output_type": "execute_result"
    }
   ],
   "source": [
    "comp[comp['quantity_shipped_x']!=comp['quantity_shipped_y']].sort_values(['year','month'])"
   ]
  },
  {
   "cell_type": "code",
   "execution_count": 39,
   "metadata": {},
   "outputs": [
    {
     "data": {
      "text/plain": [
       "'[{\"ChargeType\": \"Principal\", \"ChargeAmount_CurrencyCode\": \"USD\", \"ChargeAmount_CurrencyAmount\": 85.9}, {\"ChargeType\": \"Tax\", \"ChargeAmount_CurrencyCode\": \"USD\", \"ChargeAmount_CurrencyAmount\": 0.0}, {\"ChargeType\": \"GiftWrap\", \"ChargeAmount_CurrencyCode\": \"USD\", \"ChargeAmount_CurrencyAmount\": 0.0}, {\"ChargeType\": \"GiftWrapTax\", \"ChargeAmount_CurrencyCode\": \"USD\", \"ChargeAmount_CurrencyAmount\": 0.0}, {\"ChargeType\": \"ShippingCharge\", \"ChargeAmount_CurrencyCode\": \"USD\", \"ChargeAmount_CurrencyAmount\": 0.0}, {\"ChargeType\": \"ShippingTax\", \"ChargeAmount_CurrencyCode\": \"USD\", \"ChargeAmount_CurrencyAmount\": 0.0}]'"
      ]
     },
     "execution_count": 39,
     "metadata": {},
     "output_type": "execute_result"
    }
   ],
   "source": [
    "po[po['amazon_order_id'] == '112-4895175-3409006']['charge_list'][57272]"
   ]
  },
  {
   "cell_type": "code",
   "execution_count": 40,
   "metadata": {},
   "outputs": [
    {
     "data": {
      "text/html": [
       "<div>\n",
       "<style scoped>\n",
       "    .dataframe tbody tr th:only-of-type {\n",
       "        vertical-align: middle;\n",
       "    }\n",
       "\n",
       "    .dataframe tbody tr th {\n",
       "        vertical-align: top;\n",
       "    }\n",
       "\n",
       "    .dataframe thead th {\n",
       "        text-align: right;\n",
       "    }\n",
       "</style>\n",
       "<table border=\"1\" class=\"dataframe\">\n",
       "  <thead>\n",
       "    <tr style=\"text-align: right;\">\n",
       "      <th></th>\n",
       "      <th>seller_id</th>\n",
       "      <th>currency_code</th>\n",
       "      <th>amount</th>\n",
       "      <th>quantity_shipped</th>\n",
       "      <th>marketplace</th>\n",
       "      <th>amazon_order_id</th>\n",
       "      <th>year</th>\n",
       "      <th>month</th>\n",
       "      <th>day</th>\n",
       "    </tr>\n",
       "  </thead>\n",
       "  <tbody>\n",
       "    <tr>\n",
       "      <th>12656</th>\n",
       "      <td>A2R7HPZ408C2AG</td>\n",
       "      <td>USD</td>\n",
       "      <td>330.8</td>\n",
       "      <td>4</td>\n",
       "      <td>Amazon.com</td>\n",
       "      <td>112-4895175-3409006</td>\n",
       "      <td>2022</td>\n",
       "      <td>2</td>\n",
       "      <td>22</td>\n",
       "    </tr>\n",
       "  </tbody>\n",
       "</table>\n",
       "</div>"
      ],
      "text/plain": [
       "            seller_id currency_code  amount  quantity_shipped marketplace  \\\n",
       "12656  A2R7HPZ408C2AG           USD   330.8                 4  Amazon.com   \n",
       "\n",
       "           amazon_order_id  year  month  day  \n",
       "12656  112-4895175-3409006  2022      2   22  "
      ]
     },
     "execution_count": 40,
     "metadata": {},
     "output_type": "execute_result"
    }
   ],
   "source": [
    "orders[orders['amazon_order_id'] == '112-4895175-3409006']"
   ]
  },
  {
   "cell_type": "code",
   "execution_count": null,
   "metadata": {},
   "outputs": [],
   "source": []
  }
 ],
 "metadata": {
  "kernelspec": {
   "display_name": "Python 3",
   "language": "python",
   "name": "python3"
  },
  "language_info": {
   "codemirror_mode": {
    "name": "ipython",
    "version": 3
   },
   "file_extension": ".py",
   "mimetype": "text/x-python",
   "name": "python",
   "nbconvert_exporter": "python",
   "pygments_lexer": "ipython3",
   "version": "3.12.1"
  }
 },
 "nbformat": 4,
 "nbformat_minor": 2
}
